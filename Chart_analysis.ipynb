{
 "cells": [
  {
   "cell_type": "markdown",
   "metadata": {},
   "source": [
    "# Projekt - Rachunek prawdopodobieństwa i statystyka\n",
    "## Analiza rekordów Listy Przebojów Trójki z lat 1982-2020\n",
    "### Autor: Paweł Kruczkiewicz\n",
    "#### Data analizy: XX.01.2021"
   ]
  },
  {
   "cell_type": "markdown",
   "metadata": {},
   "source": [
    "W niniejszej pracy pragnę przyjrzeć się jednej z najbardziej znanych i z pewnością najstarszej liście przebojów w Polsce, tj. Liście Przebojów Trójki. Lista tworzona w Programie Trzecim Polskiego Radia, której pomysłodawcą i głównym prowadzącym i twórcą był Marek Niedźwiecki, przez lata kształtowała gusta muzyczne młodych pokoleń polskich słuchaczy.<br>\n",
    "Niestety w roku 2020, po tzw. \"Aferze w radiowej Trójce\" (https://pl.wikipedia.org/wiki/Polskie_Radio_Program_III#Sprawa_pojawienia_si%C4%99_piosenki_%E2%80%9ETw%C3%B3j_b%C3%B3l_jest_lepszy_ni%C5%BC_m%C3%B3j%E2%80%9D_na_Li%C5%9Bcie_Przeboj%C3%B3w), której przyczynkiem było jedno (jak się miało okazać - ostatnie) - notowanie nr 1998, Lista Przebojów Radiowej Trójki została \"zawieszona\".\n",
    "\n",
    "Jako wyraz uznania wieloletniej pracy redaktorów Trójki jak i przejaw zwykłej ciekawości na to, jak wygladały gusta \"Trójkowiczów\" przez wszystkie te lata, chciałbym krótko przeanalizować niemal 2 tysiące notowań"
   ]
  },
  {
   "cell_type": "markdown",
   "metadata": {},
   "source": [
    "### Krótko o danych\n",
    "Dane zostały pobrane ze strony https://www.lp3.pl/, skąd zostały \"zeskrapowane\" z użyciem języka python z pomocą modułu BeautifulSoup4. Pełny kod (wraz z plikiem \"requirements.txt\") dostępny jest pod podanym linkiem na githubie: https://github.com/pkrucz00/trojkaStats w pliku "
   ]
  }
 ],
 "metadata": {
  "kernelspec": {
   "display_name": "R",
   "language": "R",
   "name": "ir"
  },
  "language_info": {
   "codemirror_mode": "r",
   "file_extension": ".r",
   "mimetype": "text/x-r-source",
   "name": "R",
   "pygments_lexer": "r",
   "version": "3.6.1"
  }
 },
 "nbformat": 4,
 "nbformat_minor": 4
}
