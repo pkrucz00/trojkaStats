{
 "cells": [
  {
   "cell_type": "markdown",
   "metadata": {},
   "source": [
    "# Projekt - Rachunek prawdopodobieństwa i statystyka\n",
    "## Analiza rekordów Listy Przebojów Trójki z lat 1982-2020\n",
    "### Autor: Paweł Kruczkiewicz\n",
    "#### Data analizy: XX.01.2021"
   ]
  },
  {
   "cell_type": "markdown",
   "metadata": {},
   "source": [
    "W niniejszej pracy pragnę przyjrzeć się jednej z najbardziej znanych i z pewnością najstarszej liście przebojów w Polsce, tj. Liście Przebojów Trójki. Lista tworzona w Programie Trzecim Polskiego Radia, której pomysłodawcą i głównym prowadzącym i twórcą był Marek Niedźwiecki, przez lata kształtowała gusta muzyczne młodych pokoleń polskich słuchaczy.<br>\n",
    "Niestety w roku 2020, po tzw. \"Aferze w radiowej Trójce\" (https://pl.wikipedia.org/wiki/Polskie_Radio_Program_III#Sprawa_pojawienia_si%C4%99_piosenki_%E2%80%9ETw%C3%B3j_b%C3%B3l_jest_lepszy_ni%C5%BC_m%C3%B3j%E2%80%9D_na_Li%C5%9Bcie_Przeboj%C3%B3w), której przyczynkiem było jedno (jak się miało okazać - ostatnie) - notowanie nr 1998, Lista Przebojów Radiowej Trójki została \"zawieszona\".\n",
    "\n",
    "Jako wyraz uznania wieloletniej pracy redaktorów Trójki jak i przejaw zwykłej ciekawości na to, jak wygladały gusta \"Trójkowiczów\" przez wszystkie te lata, chciałbym krótko przeanalizować niemal 2 tysiące notowań"
   ]
  },
  {
   "cell_type": "markdown",
   "metadata": {},
   "source": [
    "### Krótko o danych\n",
    "Dane zostały pobrane ze strony https://www.lp3.pl/, skąd zostały \"zeskrapowane\" z użyciem języka python z pomocą modułu BeautifulSoup4. Pełny kod (wraz z plikiem \"requirements.txt\") dostępny jest pod podanym linkiem na githubie: https://github.com/pkrucz00/trojkaStats w pliku `lp3WebScratch`. Zapisuje on dane do pliku CSV, który to został zaimportowany za pomocą aplikacji SQLiteStudio do bazy `listaPrzebojowTrojki.db`\n",
    "\n",
    "Baza danych składa się z jednej tabeli zawierającej wszystkie rekordy w podanym formacie:\n",
    "\n",
    "| Nazwa kolumny | Typ Danych | Opis |\n",
    "| --- | --- | --- |\n",
    "| Nr notowania | INTEGER | Numer notowania (w przypadku notowań podwójnych, dla uproszczenia numerem notowania jest numer wcześniejszy (np. 665/667 -> 665)) |\n",
    "| Rok notowania | INTEGER | Rok, w którym odbyło się notowanie |\n",
    "| Pozycja | INTEGER | Pozycja, jaką osiągnął dany utwór  |\n",
    "| Tytuł | STRING | Tytuł utworu |\n",
    "| Artysta | STRING | Wykonawca utworu |\n",
    "| Punkty | INTEGER | Punkty, które dostaje utwór za swoją pozycję (ze wzoru 30 - nr pozycji + 1) |\n",
    "\n",
    "Tabela zawiera 58815 pozycji piosenek. Ponieważ liczba utworów w głównym zestawieniu zmieniała się w różnych latach, postanowiłem ujednolicić (oczyścić) dane - do bazy trafiają zawsze te utwory, które zajęły w notowaniu pozycję 30. lub wyższą. Dzięki temu przyporządkowanie punktów jest jednolite (jednak nieco różni się od stosowanego przez Radiową Trójkę systemu - np. podsumowaniach rocznych).\n",
    "\n",
    "W bazie znajduje się 58815 rekordów. Liczba nie jest podzielna przez 30, ponieważ na listę często trafiały miejsca *ex aequo* \n",
    "\n",
    "Kontrowersyjne notowanie 1998 zostało tutaj zamieszczone zgodnie z tym, jak zostało wyemitowane. Nie wzięto pod uwagę notowania 1999"
   ]
  },
  {
   "cell_type": "markdown",
   "metadata": {},
   "source": [
    "### Podłączenie bazy do języka R"
   ]
  },
  {
   "cell_type": "code",
   "execution_count": 1,
   "metadata": {},
   "outputs": [
    {
     "name": "stdout",
     "output_type": "stream",
     "text": [
      "package 'RSQLite' successfully unpacked and MD5 sums checked\n",
      "\n",
      "The downloaded binary packages are in\n",
      "\tC:\\Users\\pawel\\AppData\\Local\\Temp\\RtmpicHZN5\\downloaded_packages\n",
      "package 'tidyverse' successfully unpacked and MD5 sums checked\n",
      "\n",
      "The downloaded binary packages are in\n",
      "\tC:\\Users\\pawel\\AppData\\Local\\Temp\\RtmpicHZN5\\downloaded_packages\n"
     ]
    }
   ],
   "source": [
    "#Zainstaluj paczkę \"RSQLite\" pozwalającą na użycie bazy danych w postaci obiektu w języku R\n",
    "#NIE uruchamiaj tej komórki, jeżeli już zainstalowałeś tę paczkę\n",
    "install.packages(\"RSQLite\")\n",
    "install.packages(\"tidyverse\")"
   ]
  },
  {
   "cell_type": "markdown",
   "metadata": {},
   "source": [
    "#### Potrzebne biblioteki"
   ]
  },
  {
   "cell_type": "code",
   "execution_count": 156,
   "metadata": {},
   "outputs": [],
   "source": [
    "library(RSQLite)\n",
    "library(tidyverse)"
   ]
  },
  {
   "cell_type": "markdown",
   "metadata": {},
   "source": [
    "#### Wypisanie fragmentu bazy danych"
   ]
  },
  {
   "cell_type": "code",
   "execution_count": 157,
   "metadata": {},
   "outputs": [
    {
     "data": {
      "text/html": [
       "'Records'"
      ],
      "text/latex": [
       "'Records'"
      ],
      "text/markdown": [
       "'Records'"
      ],
      "text/plain": [
       "[1] \"Records\""
      ]
     },
     "metadata": {},
     "output_type": "display_data"
    },
    {
     "data": {
      "text/html": [
       "<table>\n",
       "<thead><tr><th scope=col>Nr.notowania</th><th scope=col>Rok.notowania</th><th scope=col>Pozycja</th><th scope=col>Tytuł</th><th scope=col>Artysta</th><th scope=col>Punkty</th></tr></thead>\n",
       "<tbody>\n",
       "\t<tr><td>1                                                                              </td><td>1982                                                                           </td><td> 1                                                                             </td><td><span style=white-space:pre-wrap>I'll Find My Way Home                  </span></td><td><span style=white-space:pre-wrap>Jon &amp; Vangelis               </span>      </td><td>30                                                                             </td></tr>\n",
       "\t<tr><td>1                                      </td><td>1982                                   </td><td> 2                                     </td><td>O! Nie rób tyle hałasu                 </td><td>Maanam                                 </td><td>29                                     </td></tr>\n",
       "\t<tr><td>1                                      </td><td>1982                                   </td><td> 3                                     </td><td>For Those About to Rock (We Salute You)</td><td>AC/DC                                  </td><td>28                                     </td></tr>\n",
       "\t<tr><td>1                                      </td><td>1982                                   </td><td> 4                                     </td><td>51                                     </td><td>TSA                                    </td><td>27                                     </td></tr>\n",
       "\t<tr><td>1                                      </td><td>1982                                   </td><td> 5                                     </td><td>Opanuj się                             </td><td>Perfect                                </td><td>26                                     </td></tr>\n",
       "\t<tr><td>1                                      </td><td>1982                                   </td><td> 6                                     </td><td>The Visitors (Crackin' Up)             </td><td>ABBA                                   </td><td>25                                     </td></tr>\n",
       "\t<tr><td>1                                      </td><td>1982                                   </td><td> 7                                     </td><td>Flying Colours                         </td><td>Jethro Tull                            </td><td>24                                     </td></tr>\n",
       "\t<tr><td>1                                      </td><td>1982                                   </td><td> 8                                     </td><td>Pepe wróć                              </td><td>Perfect                                </td><td>23                                     </td></tr>\n",
       "\t<tr><td>1                                      </td><td>1982                                   </td><td> 9                                     </td><td>Teraz rób co chcesz                    </td><td>Budka Suflera                          </td><td>22                                     </td></tr>\n",
       "\t<tr><td>1                                      </td><td>1982                                   </td><td>10                                     </td><td>Słodka jest noc                        </td><td>Kombi                                  </td><td>21                                     </td></tr>\n",
       "\t<tr><td>1                                      </td><td>1982                                   </td><td>11                                     </td><td>Freeze-Frame                           </td><td>The J. Geils Band                      </td><td>20                                     </td></tr>\n",
       "\t<tr><td>1                                      </td><td>1982                                   </td><td>12                                     </td><td>Przed nami drzwi zamknięte             </td><td>Kasa Chorych                           </td><td>19                                     </td></tr>\n",
       "\t<tr><td>1                                      </td><td>1982                                   </td><td>13                                     </td><td>O jeden dreszcz                        </td><td>Lombard                                </td><td>18                                     </td></tr>\n",
       "\t<tr><td>1                                                                              </td><td>1982                                                                           </td><td>14                                                                             </td><td><span style=white-space:pre-wrap>Layla                                  </span></td><td><span style=white-space:pre-wrap>Derek &amp; the Dominos          </span>      </td><td>17                                                                             </td></tr>\n",
       "\t<tr><td>1                                      </td><td>1982                                   </td><td>15                                     </td><td>Do or Die                              </td><td>The Human League                       </td><td>16                                     </td></tr>\n",
       "\t<tr><td>1                                      </td><td>1982                                   </td><td>16                                     </td><td>How Long                               </td><td>Rod Stewart                            </td><td>15                                     </td></tr>\n",
       "\t<tr><td>1                                      </td><td>1982                                   </td><td>17                                     </td><td>Asfaltowe łąki                         </td><td>Grupa ABC Andrzeja Nebeskiego          </td><td>14                                     </td></tr>\n",
       "\t<tr><td>1                                      </td><td>1982                                   </td><td>18                                     </td><td>'65 Love Affair                        </td><td>Paul Davis                             </td><td>13                                     </td></tr>\n",
       "\t<tr><td>1                                      </td><td>1982                                   </td><td>19                                     </td><td>Edge of Seventeen                      </td><td>Stevie Nicks                           </td><td>12                                     </td></tr>\n",
       "\t<tr><td>1                                      </td><td>1982                                   </td><td>20                                     </td><td>That Girl                              </td><td>Stevie Wonder                          </td><td>11                                     </td></tr>\n",
       "\t<tr><td>1                                      </td><td>1982                                   </td><td>21                                     </td><td>Trouble                                </td><td>Lindsey Buckingham                     </td><td>10                                     </td></tr>\n",
       "\t<tr><td>1                                      </td><td>1982                                   </td><td>22                                     </td><td>Droga pani z TV                        </td><td>Lombard                                </td><td> 9                                     </td></tr>\n",
       "\t<tr><td>1                                      </td><td>1982                                   </td><td>23                                     </td><td>400 Dragons                            </td><td>Adrian John Loveridge                  </td><td> 8                                     </td></tr>\n",
       "\t<tr><td>1                                      </td><td>1982                                   </td><td>24                                     </td><td>Z brzytwą na poziomki                  </td><td>Klan                                   </td><td> 7                                     </td></tr>\n",
       "\t<tr><td>1                                      </td><td>1982                                   </td><td>25                                     </td><td>Don't Talk to Strangers                </td><td>Rick Springfield                       </td><td> 6                                     </td></tr>\n",
       "\t<tr><td>1                                      </td><td>1982                                   </td><td>26                                     </td><td>Królowie życia                         </td><td>Kombi                                  </td><td> 5                                     </td></tr>\n",
       "\t<tr><td>1                                      </td><td>1982                                   </td><td>27                                     </td><td>Angel of Death                         </td><td>Thin Lizzy                             </td><td> 4                                     </td></tr>\n",
       "\t<tr><td>1                                      </td><td>1982                                   </td><td>28                                     </td><td>Sweet Dreams                           </td><td>Air Supply                             </td><td> 3                                     </td></tr>\n",
       "\t<tr><td>1                                      </td><td>1982                                   </td><td>29                                     </td><td>I Remember (Death in the Afternoon)    </td><td>Ultravox                               </td><td> 2                                     </td></tr>\n",
       "\t<tr><td>1                                                                              </td><td>1982                                                                           </td><td>30                                                                             </td><td><span style=white-space:pre-wrap>Czy możemy sami żyć                    </span></td><td><span style=white-space:pre-wrap>Piotr Schulz &amp; Alex Band     </span>      </td><td> 1                                                                             </td></tr>\n",
       "\t<tr><td>...</td><td>...</td><td>...</td><td>...</td><td>...</td><td>...</td></tr>\n",
       "\t<tr><td>1998                            </td><td>2020                            </td><td> 1                              </td><td>Twój ból jest lepszy niż mój    </td><td>Kazik                           </td><td>30                              </td></tr>\n",
       "\t<tr><td>1998                            </td><td>2020                            </td><td> 2                              </td><td>Living In A Ghost Town          </td><td>The Rolling Stones              </td><td>29                              </td></tr>\n",
       "\t<tr><td>1998                            </td><td>2020                            </td><td> 3                              </td><td>Gdybym miała serce              </td><td>Daria Zawiałow                  </td><td>28                              </td></tr>\n",
       "\t<tr><td>1998                            </td><td>2020                            </td><td> 4                              </td><td>Throw My Bones                  </td><td>Deep Purple                     </td><td>27                              </td></tr>\n",
       "\t<tr><td>1998                            </td><td>2020                            </td><td> 5                              </td><td>Bez końca                       </td><td>Artur Rojek                     </td><td>26                              </td></tr>\n",
       "\t<tr><td>1998                            </td><td>2020                            </td><td> 6                              </td><td>Wojownik z miłości              </td><td>Bartas Szymoniak                </td><td>25                              </td></tr>\n",
       "\t<tr><td>1998                            </td><td>2020                            </td><td> 7                              </td><td>Cześć to ja                     </td><td>Dorota Osińska                  </td><td>24                              </td></tr>\n",
       "\t<tr><td>1998                            </td><td>2020                            </td><td> 8                              </td><td>Helsinki                        </td><td>Daria Zawiałow                  </td><td>23                              </td></tr>\n",
       "\t<tr><td>1998                            </td><td>2020                            </td><td> 9                              </td><td>Reasons I Drink                 </td><td>Alanis Morissette               </td><td>22                              </td></tr>\n",
       "\t<tr><td>1998                            </td><td>2020                            </td><td>10                              </td><td>Dance of the Clairvoyants       </td><td>Pearl Jam                       </td><td>21                              </td></tr>\n",
       "\t<tr><td>1998                            </td><td>2020                            </td><td>11                              </td><td>Do lasu                         </td><td>Ania Rusowicz                   </td><td>20                              </td></tr>\n",
       "\t<tr><td>1998                            </td><td>2020                            </td><td>12                              </td><td>Co mi Panie dasz                </td><td>Adam Sztaba i Orkiestra 0n Line </td><td>19                              </td></tr>\n",
       "\t<tr><td>1998                            </td><td>2020                            </td><td>13                              </td><td>Smiling                         </td><td>Alanis Morissette               </td><td>18                              </td></tr>\n",
       "\t<tr><td>1998                            </td><td>2020                            </td><td>14                              </td><td>Katrina                         </td><td>Karaś / Rogucki                 </td><td>17                              </td></tr>\n",
       "\t<tr><td>1998                                                                        </td><td>2020                                                                        </td><td>15                                                                          </td><td><span style=white-space:pre-wrap>Bright Horses                  </span>     </td><td><span style=white-space:pre-wrap>Nick Cave &amp; the Bad Seeds       </span></td><td>16                                                                          </td></tr>\n",
       "\t<tr><td>1998                            </td><td>2020                            </td><td>16                              </td><td>Pneuma                          </td><td>Tool                            </td><td>15                              </td></tr>\n",
       "\t<tr><td>1998                            </td><td>2020                            </td><td>17                              </td><td>Głodne dusze                    </td><td>Król                            </td><td>14                              </td></tr>\n",
       "\t<tr><td>1998                            </td><td>2020                            </td><td>18                              </td><td>Wiśnia                          </td><td>Kaśka Sochacka                  </td><td>13                              </td></tr>\n",
       "\t<tr><td>1998                            </td><td>2020                            </td><td>19                              </td><td>Champion of the World           </td><td>Coldplay                        </td><td>12                              </td></tr>\n",
       "\t<tr><td>1998                            </td><td>2020                            </td><td>20                              </td><td>Ten moment                      </td><td>Edyta Bartosiewicz              </td><td>11                              </td></tr>\n",
       "\t<tr><td>1998                            </td><td>2020                            </td><td>21                              </td><td>Under the Graveyard             </td><td>Ozzy Osbourne                   </td><td>10                              </td></tr>\n",
       "\t<tr><td>1998                                                                        </td><td>2020                                                                        </td><td>22                                                                          </td><td>My Way / Szczęście jest we mnie                                             </td><td><span style=white-space:pre-wrap>Matt Dusk &amp; Zbigniew Wodecki    </span></td><td> 9                                                                          </td></tr>\n",
       "\t<tr><td>1998                            </td><td>2020                            </td><td>23                              </td><td>Weltschmerz                     </td><td>Fish                            </td><td> 8                              </td></tr>\n",
       "\t<tr><td>1998                            </td><td>2020                            </td><td>24                              </td><td>Man Alive                       </td><td>Deep Purple                     </td><td> 7                              </td></tr>\n",
       "\t<tr><td>1998                            </td><td>2020                            </td><td>25                              </td><td>It Can Never Be the Same (live) </td><td>The Cure                        </td><td> 6                              </td></tr>\n",
       "\t<tr><td>1998                            </td><td>2020                            </td><td>26                              </td><td>Ho Ho                           </td><td>Red Box                         </td><td> 5                              </td></tr>\n",
       "\t<tr><td>1998                            </td><td>2020                            </td><td>27                              </td><td>Retrograde                      </td><td>Pearl Jam                       </td><td> 4                              </td></tr>\n",
       "\t<tr><td>1998                            </td><td>2020                            </td><td>28                              </td><td>Bubbletea                       </td><td>Quebonafide feat. Daria Zawiałow</td><td> 3                              </td></tr>\n",
       "\t<tr><td>1998                            </td><td>2020                            </td><td>29                              </td><td>Mgła na torach                  </td><td>Happysad                        </td><td> 2                              </td></tr>\n",
       "\t<tr><td>1998                            </td><td>2020                            </td><td>30                              </td><td>Zachowaj dystans                </td><td>Frele feat. Marcin Wyrostek     </td><td> 1                              </td></tr>\n",
       "</tbody>\n",
       "</table>\n"
      ],
      "text/latex": [
       "\\begin{tabular}{r|llllll}\n",
       " Nr.notowania & Rok.notowania & Pozycja & Tytuł & Artysta & Punkty\\\\\n",
       "\\hline\n",
       "\t 1                                       & 1982                                    &  1                                      & I'll Find My Way Home                   & Jon \\& Vangelis                        & 30                                     \\\\\n",
       "\t 1                                       & 1982                                    &  2                                      & O! Nie rób tyle hałasu                  & Maanam                                  & 29                                     \\\\\n",
       "\t 1                                       & 1982                                    &  3                                      & For Those About to Rock (We Salute You) & AC/DC                                   & 28                                     \\\\\n",
       "\t 1                                       & 1982                                    &  4                                      & 51                                      & TSA                                     & 27                                     \\\\\n",
       "\t 1                                       & 1982                                    &  5                                      & Opanuj się                              & Perfect                                 & 26                                     \\\\\n",
       "\t 1                                       & 1982                                    &  6                                      & The Visitors (Crackin' Up)              & ABBA                                    & 25                                     \\\\\n",
       "\t 1                                       & 1982                                    &  7                                      & Flying Colours                          & Jethro Tull                             & 24                                     \\\\\n",
       "\t 1                                       & 1982                                    &  8                                      & Pepe wróć                               & Perfect                                 & 23                                     \\\\\n",
       "\t 1                                       & 1982                                    &  9                                      & Teraz rób co chcesz                     & Budka Suflera                           & 22                                     \\\\\n",
       "\t 1                                       & 1982                                    & 10                                      & Słodka jest noc                         & Kombi                                   & 21                                     \\\\\n",
       "\t 1                                       & 1982                                    & 11                                      & Freeze-Frame                            & The J. Geils Band                       & 20                                     \\\\\n",
       "\t 1                                       & 1982                                    & 12                                      & Przed nami drzwi zamknięte              & Kasa Chorych                            & 19                                     \\\\\n",
       "\t 1                                       & 1982                                    & 13                                      & O jeden dreszcz                         & Lombard                                 & 18                                     \\\\\n",
       "\t 1                                       & 1982                                    & 14                                      & Layla                                   & Derek \\& the Dominos                   & 17                                     \\\\\n",
       "\t 1                                       & 1982                                    & 15                                      & Do or Die                               & The Human League                        & 16                                     \\\\\n",
       "\t 1                                       & 1982                                    & 16                                      & How Long                                & Rod Stewart                             & 15                                     \\\\\n",
       "\t 1                                       & 1982                                    & 17                                      & Asfaltowe łąki                          & Grupa ABC Andrzeja Nebeskiego           & 14                                     \\\\\n",
       "\t 1                                       & 1982                                    & 18                                      & '65 Love Affair                         & Paul Davis                              & 13                                     \\\\\n",
       "\t 1                                       & 1982                                    & 19                                      & Edge of Seventeen                       & Stevie Nicks                            & 12                                     \\\\\n",
       "\t 1                                       & 1982                                    & 20                                      & That Girl                               & Stevie Wonder                           & 11                                     \\\\\n",
       "\t 1                                       & 1982                                    & 21                                      & Trouble                                 & Lindsey Buckingham                      & 10                                     \\\\\n",
       "\t 1                                       & 1982                                    & 22                                      & Droga pani z TV                         & Lombard                                 &  9                                     \\\\\n",
       "\t 1                                       & 1982                                    & 23                                      & 400 Dragons                             & Adrian John Loveridge                   &  8                                     \\\\\n",
       "\t 1                                       & 1982                                    & 24                                      & Z brzytwą na poziomki                   & Klan                                    &  7                                     \\\\\n",
       "\t 1                                       & 1982                                    & 25                                      & Don't Talk to Strangers                 & Rick Springfield                        &  6                                     \\\\\n",
       "\t 1                                       & 1982                                    & 26                                      & Królowie życia                          & Kombi                                   &  5                                     \\\\\n",
       "\t 1                                       & 1982                                    & 27                                      & Angel of Death                          & Thin Lizzy                              &  4                                     \\\\\n",
       "\t 1                                       & 1982                                    & 28                                      & Sweet Dreams                            & Air Supply                              &  3                                     \\\\\n",
       "\t 1                                       & 1982                                    & 29                                      & I Remember (Death in the Afternoon)     & Ultravox                                &  2                                     \\\\\n",
       "\t 1                                       & 1982                                    & 30                                      & Czy możemy sami żyć                     & Piotr Schulz \\& Alex Band              &  1                                     \\\\\n",
       "\t ... & ... & ... & ... & ... & ...\\\\\n",
       "\t 1998                             & 2020                             &  1                               & Twój ból jest lepszy niż mój     & Kazik                            & 30                              \\\\\n",
       "\t 1998                             & 2020                             &  2                               & Living In A Ghost Town           & The Rolling Stones               & 29                              \\\\\n",
       "\t 1998                             & 2020                             &  3                               & Gdybym miała serce               & Daria Zawiałow                   & 28                              \\\\\n",
       "\t 1998                             & 2020                             &  4                               & Throw My Bones                   & Deep Purple                      & 27                              \\\\\n",
       "\t 1998                             & 2020                             &  5                               & Bez końca                        & Artur Rojek                      & 26                              \\\\\n",
       "\t 1998                             & 2020                             &  6                               & Wojownik z miłości               & Bartas Szymoniak                 & 25                              \\\\\n",
       "\t 1998                             & 2020                             &  7                               & Cześć to ja                      & Dorota Osińska                   & 24                              \\\\\n",
       "\t 1998                             & 2020                             &  8                               & Helsinki                         & Daria Zawiałow                   & 23                              \\\\\n",
       "\t 1998                             & 2020                             &  9                               & Reasons I Drink                  & Alanis Morissette                & 22                              \\\\\n",
       "\t 1998                             & 2020                             & 10                               & Dance of the Clairvoyants        & Pearl Jam                        & 21                              \\\\\n",
       "\t 1998                             & 2020                             & 11                               & Do lasu                          & Ania Rusowicz                    & 20                              \\\\\n",
       "\t 1998                             & 2020                             & 12                               & Co mi Panie dasz                 & Adam Sztaba i Orkiestra 0n Line  & 19                              \\\\\n",
       "\t 1998                             & 2020                             & 13                               & Smiling                          & Alanis Morissette                & 18                              \\\\\n",
       "\t 1998                             & 2020                             & 14                               & Katrina                          & Karaś / Rogucki                  & 17                              \\\\\n",
       "\t 1998                               & 2020                               & 15                                 & Bright Horses                      & Nick Cave \\& the Bad Seeds        & 16                                \\\\\n",
       "\t 1998                             & 2020                             & 16                               & Pneuma                           & Tool                             & 15                              \\\\\n",
       "\t 1998                             & 2020                             & 17                               & Głodne dusze                     & Król                             & 14                              \\\\\n",
       "\t 1998                             & 2020                             & 18                               & Wiśnia                           & Kaśka Sochacka                   & 13                              \\\\\n",
       "\t 1998                             & 2020                             & 19                               & Champion of the World            & Coldplay                         & 12                              \\\\\n",
       "\t 1998                             & 2020                             & 20                               & Ten moment                       & Edyta Bartosiewicz               & 11                              \\\\\n",
       "\t 1998                             & 2020                             & 21                               & Under the Graveyard              & Ozzy Osbourne                    & 10                              \\\\\n",
       "\t 1998                               & 2020                               & 22                                 & My Way / Szczęście jest we mnie    & Matt Dusk \\& Zbigniew Wodecki     &  9                                \\\\\n",
       "\t 1998                             & 2020                             & 23                               & Weltschmerz                      & Fish                             &  8                              \\\\\n",
       "\t 1998                             & 2020                             & 24                               & Man Alive                        & Deep Purple                      &  7                              \\\\\n",
       "\t 1998                             & 2020                             & 25                               & It Can Never Be the Same (live)  & The Cure                         &  6                              \\\\\n",
       "\t 1998                             & 2020                             & 26                               & Ho Ho                            & Red Box                          &  5                              \\\\\n",
       "\t 1998                             & 2020                             & 27                               & Retrograde                       & Pearl Jam                        &  4                              \\\\\n",
       "\t 1998                             & 2020                             & 28                               & Bubbletea                        & Quebonafide feat. Daria Zawiałow &  3                              \\\\\n",
       "\t 1998                             & 2020                             & 29                               & Mgła na torach                   & Happysad                         &  2                              \\\\\n",
       "\t 1998                             & 2020                             & 30                               & Zachowaj dystans                 & Frele feat. Marcin Wyrostek      &  1                              \\\\\n",
       "\\end{tabular}\n"
      ],
      "text/markdown": [
       "\n",
       "| Nr.notowania | Rok.notowania | Pozycja | Tytuł | Artysta | Punkty |\n",
       "|---|---|---|---|---|---|\n",
       "| 1                                       | 1982                                    |  1                                      | I'll Find My Way Home                   | Jon & Vangelis                          | 30                                      |\n",
       "| 1                                       | 1982                                    |  2                                      | O! Nie rób tyle hałasu                  | Maanam                                  | 29                                      |\n",
       "| 1                                       | 1982                                    |  3                                      | For Those About to Rock (We Salute You) | AC/DC                                   | 28                                      |\n",
       "| 1                                       | 1982                                    |  4                                      | 51                                      | TSA                                     | 27                                      |\n",
       "| 1                                       | 1982                                    |  5                                      | Opanuj się                              | Perfect                                 | 26                                      |\n",
       "| 1                                       | 1982                                    |  6                                      | The Visitors (Crackin' Up)              | ABBA                                    | 25                                      |\n",
       "| 1                                       | 1982                                    |  7                                      | Flying Colours                          | Jethro Tull                             | 24                                      |\n",
       "| 1                                       | 1982                                    |  8                                      | Pepe wróć                               | Perfect                                 | 23                                      |\n",
       "| 1                                       | 1982                                    |  9                                      | Teraz rób co chcesz                     | Budka Suflera                           | 22                                      |\n",
       "| 1                                       | 1982                                    | 10                                      | Słodka jest noc                         | Kombi                                   | 21                                      |\n",
       "| 1                                       | 1982                                    | 11                                      | Freeze-Frame                            | The J. Geils Band                       | 20                                      |\n",
       "| 1                                       | 1982                                    | 12                                      | Przed nami drzwi zamknięte              | Kasa Chorych                            | 19                                      |\n",
       "| 1                                       | 1982                                    | 13                                      | O jeden dreszcz                         | Lombard                                 | 18                                      |\n",
       "| 1                                       | 1982                                    | 14                                      | Layla                                   | Derek & the Dominos                     | 17                                      |\n",
       "| 1                                       | 1982                                    | 15                                      | Do or Die                               | The Human League                        | 16                                      |\n",
       "| 1                                       | 1982                                    | 16                                      | How Long                                | Rod Stewart                             | 15                                      |\n",
       "| 1                                       | 1982                                    | 17                                      | Asfaltowe łąki                          | Grupa ABC Andrzeja Nebeskiego           | 14                                      |\n",
       "| 1                                       | 1982                                    | 18                                      | '65 Love Affair                         | Paul Davis                              | 13                                      |\n",
       "| 1                                       | 1982                                    | 19                                      | Edge of Seventeen                       | Stevie Nicks                            | 12                                      |\n",
       "| 1                                       | 1982                                    | 20                                      | That Girl                               | Stevie Wonder                           | 11                                      |\n",
       "| 1                                       | 1982                                    | 21                                      | Trouble                                 | Lindsey Buckingham                      | 10                                      |\n",
       "| 1                                       | 1982                                    | 22                                      | Droga pani z TV                         | Lombard                                 |  9                                      |\n",
       "| 1                                       | 1982                                    | 23                                      | 400 Dragons                             | Adrian John Loveridge                   |  8                                      |\n",
       "| 1                                       | 1982                                    | 24                                      | Z brzytwą na poziomki                   | Klan                                    |  7                                      |\n",
       "| 1                                       | 1982                                    | 25                                      | Don't Talk to Strangers                 | Rick Springfield                        |  6                                      |\n",
       "| 1                                       | 1982                                    | 26                                      | Królowie życia                          | Kombi                                   |  5                                      |\n",
       "| 1                                       | 1982                                    | 27                                      | Angel of Death                          | Thin Lizzy                              |  4                                      |\n",
       "| 1                                       | 1982                                    | 28                                      | Sweet Dreams                            | Air Supply                              |  3                                      |\n",
       "| 1                                       | 1982                                    | 29                                      | I Remember (Death in the Afternoon)     | Ultravox                                |  2                                      |\n",
       "| 1                                       | 1982                                    | 30                                      | Czy możemy sami żyć                     | Piotr Schulz & Alex Band                |  1                                      |\n",
       "| ... | ... | ... | ... | ... | ... |\n",
       "| 1998                             | 2020                             |  1                               | Twój ból jest lepszy niż mój     | Kazik                            | 30                               |\n",
       "| 1998                             | 2020                             |  2                               | Living In A Ghost Town           | The Rolling Stones               | 29                               |\n",
       "| 1998                             | 2020                             |  3                               | Gdybym miała serce               | Daria Zawiałow                   | 28                               |\n",
       "| 1998                             | 2020                             |  4                               | Throw My Bones                   | Deep Purple                      | 27                               |\n",
       "| 1998                             | 2020                             |  5                               | Bez końca                        | Artur Rojek                      | 26                               |\n",
       "| 1998                             | 2020                             |  6                               | Wojownik z miłości               | Bartas Szymoniak                 | 25                               |\n",
       "| 1998                             | 2020                             |  7                               | Cześć to ja                      | Dorota Osińska                   | 24                               |\n",
       "| 1998                             | 2020                             |  8                               | Helsinki                         | Daria Zawiałow                   | 23                               |\n",
       "| 1998                             | 2020                             |  9                               | Reasons I Drink                  | Alanis Morissette                | 22                               |\n",
       "| 1998                             | 2020                             | 10                               | Dance of the Clairvoyants        | Pearl Jam                        | 21                               |\n",
       "| 1998                             | 2020                             | 11                               | Do lasu                          | Ania Rusowicz                    | 20                               |\n",
       "| 1998                             | 2020                             | 12                               | Co mi Panie dasz                 | Adam Sztaba i Orkiestra 0n Line  | 19                               |\n",
       "| 1998                             | 2020                             | 13                               | Smiling                          | Alanis Morissette                | 18                               |\n",
       "| 1998                             | 2020                             | 14                               | Katrina                          | Karaś / Rogucki                  | 17                               |\n",
       "| 1998                             | 2020                             | 15                               | Bright Horses                    | Nick Cave & the Bad Seeds        | 16                               |\n",
       "| 1998                             | 2020                             | 16                               | Pneuma                           | Tool                             | 15                               |\n",
       "| 1998                             | 2020                             | 17                               | Głodne dusze                     | Król                             | 14                               |\n",
       "| 1998                             | 2020                             | 18                               | Wiśnia                           | Kaśka Sochacka                   | 13                               |\n",
       "| 1998                             | 2020                             | 19                               | Champion of the World            | Coldplay                         | 12                               |\n",
       "| 1998                             | 2020                             | 20                               | Ten moment                       | Edyta Bartosiewicz               | 11                               |\n",
       "| 1998                             | 2020                             | 21                               | Under the Graveyard              | Ozzy Osbourne                    | 10                               |\n",
       "| 1998                             | 2020                             | 22                               | My Way / Szczęście jest we mnie  | Matt Dusk & Zbigniew Wodecki     |  9                               |\n",
       "| 1998                             | 2020                             | 23                               | Weltschmerz                      | Fish                             |  8                               |\n",
       "| 1998                             | 2020                             | 24                               | Man Alive                        | Deep Purple                      |  7                               |\n",
       "| 1998                             | 2020                             | 25                               | It Can Never Be the Same (live)  | The Cure                         |  6                               |\n",
       "| 1998                             | 2020                             | 26                               | Ho Ho                            | Red Box                          |  5                               |\n",
       "| 1998                             | 2020                             | 27                               | Retrograde                       | Pearl Jam                        |  4                               |\n",
       "| 1998                             | 2020                             | 28                               | Bubbletea                        | Quebonafide feat. Daria Zawiałow |  3                               |\n",
       "| 1998                             | 2020                             | 29                               | Mgła na torach                   | Happysad                         |  2                               |\n",
       "| 1998                             | 2020                             | 30                               | Zachowaj dystans                 | Frele feat. Marcin Wyrostek      |  1                               |\n",
       "\n"
      ],
      "text/plain": [
       "      Nr.notowania Rok.notowania Pozycja\n",
       "1     1            1982           1     \n",
       "2     1            1982           2     \n",
       "3     1            1982           3     \n",
       "4     1            1982           4     \n",
       "5     1            1982           5     \n",
       "6     1            1982           6     \n",
       "7     1            1982           7     \n",
       "8     1            1982           8     \n",
       "9     1            1982           9     \n",
       "10    1            1982          10     \n",
       "11    1            1982          11     \n",
       "12    1            1982          12     \n",
       "13    1            1982          13     \n",
       "14    1            1982          14     \n",
       "15    1            1982          15     \n",
       "16    1            1982          16     \n",
       "17    1            1982          17     \n",
       "18    1            1982          18     \n",
       "19    1            1982          19     \n",
       "20    1            1982          20     \n",
       "21    1            1982          21     \n",
       "22    1            1982          22     \n",
       "23    1            1982          23     \n",
       "24    1            1982          24     \n",
       "25    1            1982          25     \n",
       "26    1            1982          26     \n",
       "27    1            1982          27     \n",
       "28    1            1982          28     \n",
       "29    1            1982          29     \n",
       "30    1            1982          30     \n",
       "...   ...          ...           ...    \n",
       "58786 1998         2020           1     \n",
       "58787 1998         2020           2     \n",
       "58788 1998         2020           3     \n",
       "58789 1998         2020           4     \n",
       "58790 1998         2020           5     \n",
       "58791 1998         2020           6     \n",
       "58792 1998         2020           7     \n",
       "58793 1998         2020           8     \n",
       "58794 1998         2020           9     \n",
       "58795 1998         2020          10     \n",
       "58796 1998         2020          11     \n",
       "58797 1998         2020          12     \n",
       "58798 1998         2020          13     \n",
       "58799 1998         2020          14     \n",
       "58800 1998         2020          15     \n",
       "58801 1998         2020          16     \n",
       "58802 1998         2020          17     \n",
       "58803 1998         2020          18     \n",
       "58804 1998         2020          19     \n",
       "58805 1998         2020          20     \n",
       "58806 1998         2020          21     \n",
       "58807 1998         2020          22     \n",
       "58808 1998         2020          23     \n",
       "58809 1998         2020          24     \n",
       "58810 1998         2020          25     \n",
       "58811 1998         2020          26     \n",
       "58812 1998         2020          27     \n",
       "58813 1998         2020          28     \n",
       "58814 1998         2020          29     \n",
       "58815 1998         2020          30     \n",
       "      Tytuł                                   Artysta                         \n",
       "1     I'll Find My Way Home                   Jon & Vangelis                  \n",
       "2     O! Nie rób tyle hałasu                  Maanam                          \n",
       "3     For Those About to Rock (We Salute You) AC/DC                           \n",
       "4     51                                      TSA                             \n",
       "5     Opanuj się                              Perfect                         \n",
       "6     The Visitors (Crackin' Up)              ABBA                            \n",
       "7     Flying Colours                          Jethro Tull                     \n",
       "8     Pepe wróć                               Perfect                         \n",
       "9     Teraz rób co chcesz                     Budka Suflera                   \n",
       "10    Słodka jest noc                         Kombi                           \n",
       "11    Freeze-Frame                            The J. Geils Band               \n",
       "12    Przed nami drzwi zamknięte              Kasa Chorych                    \n",
       "13    O jeden dreszcz                         Lombard                         \n",
       "14    Layla                                   Derek & the Dominos             \n",
       "15    Do or Die                               The Human League                \n",
       "16    How Long                                Rod Stewart                     \n",
       "17    Asfaltowe łąki                          Grupa ABC Andrzeja Nebeskiego   \n",
       "18    '65 Love Affair                         Paul Davis                      \n",
       "19    Edge of Seventeen                       Stevie Nicks                    \n",
       "20    That Girl                               Stevie Wonder                   \n",
       "21    Trouble                                 Lindsey Buckingham              \n",
       "22    Droga pani z TV                         Lombard                         \n",
       "23    400 Dragons                             Adrian John Loveridge           \n",
       "24    Z brzytwą na poziomki                   Klan                            \n",
       "25    Don't Talk to Strangers                 Rick Springfield                \n",
       "26    Królowie życia                          Kombi                           \n",
       "27    Angel of Death                          Thin Lizzy                      \n",
       "28    Sweet Dreams                            Air Supply                      \n",
       "29    I Remember (Death in the Afternoon)     Ultravox                        \n",
       "30    Czy możemy sami żyć                     Piotr Schulz & Alex Band        \n",
       "...   ...                                     ...                             \n",
       "58786 Twój ból jest lepszy niż mój            Kazik                           \n",
       "58787 Living In A Ghost Town                  The Rolling Stones              \n",
       "58788 Gdybym miała serce                      Daria Zawiałow                  \n",
       "58789 Throw My Bones                          Deep Purple                     \n",
       "58790 Bez końca                               Artur Rojek                     \n",
       "58791 Wojownik z miłości                      Bartas Szymoniak                \n",
       "58792 Cześć to ja                             Dorota Osińska                  \n",
       "58793 Helsinki                                Daria Zawiałow                  \n",
       "58794 Reasons I Drink                         Alanis Morissette               \n",
       "58795 Dance of the Clairvoyants               Pearl Jam                       \n",
       "58796 Do lasu                                 Ania Rusowicz                   \n",
       "58797 Co mi Panie dasz                        Adam Sztaba i Orkiestra 0n Line \n",
       "58798 Smiling                                 Alanis Morissette               \n",
       "58799 Katrina                                 Karaś / Rogucki                 \n",
       "58800 Bright Horses                           Nick Cave & the Bad Seeds       \n",
       "58801 Pneuma                                  Tool                            \n",
       "58802 Głodne dusze                            Król                            \n",
       "58803 Wiśnia                                  Kaśka Sochacka                  \n",
       "58804 Champion of the World                   Coldplay                        \n",
       "58805 Ten moment                              Edyta Bartosiewicz              \n",
       "58806 Under the Graveyard                     Ozzy Osbourne                   \n",
       "58807 My Way / Szczęście jest we mnie         Matt Dusk & Zbigniew Wodecki    \n",
       "58808 Weltschmerz                             Fish                            \n",
       "58809 Man Alive                               Deep Purple                     \n",
       "58810 It Can Never Be the Same (live)         The Cure                        \n",
       "58811 Ho Ho                                   Red Box                         \n",
       "58812 Retrograde                              Pearl Jam                       \n",
       "58813 Bubbletea                               Quebonafide feat. Daria Zawiałow\n",
       "58814 Mgła na torach                          Happysad                        \n",
       "58815 Zachowaj dystans                        Frele feat. Marcin Wyrostek     \n",
       "      Punkty\n",
       "1     30    \n",
       "2     29    \n",
       "3     28    \n",
       "4     27    \n",
       "5     26    \n",
       "6     25    \n",
       "7     24    \n",
       "8     23    \n",
       "9     22    \n",
       "10    21    \n",
       "11    20    \n",
       "12    19    \n",
       "13    18    \n",
       "14    17    \n",
       "15    16    \n",
       "16    15    \n",
       "17    14    \n",
       "18    13    \n",
       "19    12    \n",
       "20    11    \n",
       "21    10    \n",
       "22     9    \n",
       "23     8    \n",
       "24     7    \n",
       "25     6    \n",
       "26     5    \n",
       "27     4    \n",
       "28     3    \n",
       "29     2    \n",
       "30     1    \n",
       "...   ...   \n",
       "58786 30    \n",
       "58787 29    \n",
       "58788 28    \n",
       "58789 27    \n",
       "58790 26    \n",
       "58791 25    \n",
       "58792 24    \n",
       "58793 23    \n",
       "58794 22    \n",
       "58795 21    \n",
       "58796 20    \n",
       "58797 19    \n",
       "58798 18    \n",
       "58799 17    \n",
       "58800 16    \n",
       "58801 15    \n",
       "58802 14    \n",
       "58803 13    \n",
       "58804 12    \n",
       "58805 11    \n",
       "58806 10    \n",
       "58807  9    \n",
       "58808  8    \n",
       "58809  7    \n",
       "58810  6    \n",
       "58811  5    \n",
       "58812  4    \n",
       "58813  3    \n",
       "58814  2    \n",
       "58815  1    "
      ]
     },
     "metadata": {},
     "output_type": "display_data"
    }
   ],
   "source": [
    "con <- dbConnect(RSQLite::SQLite(), dbname=\"ListaPrzebojowTrojki.db\")\n",
    "\n",
    "dbListTables(con)\n",
    "\n",
    "#Błąd związany z \"mixed type\" związany jest z tytułami i artystami,\n",
    "#którzy zawierają w swojej nazwie liczby (np. '51' zespołu TSA)\n",
    "records <- dbReadTable(con, \"Records\")\n",
    "records\n",
    "\n",
    "dbDisconnect(con)"
   ]
  },
  {
   "cell_type": "markdown",
   "metadata": {},
   "source": [
    "## Analiza wstępna/eksploracyjna\n",
    "Na sam początek możemy sprawdzić, czy zebrane dane są poprawne. Sprawdźmy liczbę, medianę i średnią wszystkich rekordów"
   ]
  },
  {
   "cell_type": "code",
   "execution_count": 158,
   "metadata": {},
   "outputs": [
    {
     "data": {
      "text/html": [
       "<table>\n",
       "<thead><tr><th scope=col>liczba.rekordów</th><th scope=col>mediana</th><th scope=col>średnia</th></tr></thead>\n",
       "<tbody>\n",
       "\t<tr><td>58815   </td><td>15      </td><td>15.49499</td></tr>\n",
       "</tbody>\n",
       "</table>\n"
      ],
      "text/latex": [
       "\\begin{tabular}{r|lll}\n",
       " liczba.rekordów & mediana & średnia\\\\\n",
       "\\hline\n",
       "\t 58815    & 15       & 15.49499\\\\\n",
       "\\end{tabular}\n"
      ],
      "text/markdown": [
       "\n",
       "| liczba.rekordów | mediana | średnia |\n",
       "|---|---|---|\n",
       "| 58815    | 15       | 15.49499 |\n",
       "\n"
      ],
      "text/plain": [
       "  liczba.rekordów mediana średnia \n",
       "1 58815           15      15.49499"
      ]
     },
     "metadata": {},
     "output_type": "display_data"
    }
   ],
   "source": [
    "records %>% \n",
    "summarise(\n",
    "    liczba.rekordów = n(),\n",
    "    mediana = median(Punkty),\n",
    "    średnia = mean(Punkty))"
   ]
  },
  {
   "cell_type": "markdown",
   "metadata": {},
   "source": [
    "Jak widać, mediana zbioru to 15, średnia jest bardzo bliska wartości oczekiwanej. Delikatna różnica spowodowana jest wspomnianymi wcześniej miejscami ex aequo.\n",
    "A jak takie statystyki wyglądają dla pojedynczego utworu?"
   ]
  },
  {
   "cell_type": "code",
   "execution_count": 159,
   "metadata": {},
   "outputs": [
    {
     "name": "stderr",
     "output_type": "stream",
     "text": [
      "`summarise()` ungrouping output (override with `.groups` argument)\n"
     ]
    },
    {
     "data": {
      "text/html": [
       "<table>\n",
       "<thead><tr><th scope=col>śr.tyg.na.liscie</th><th scope=col>med.tyg.na.liscie</th><th scope=col>śr.suma.punktów</th><th scope=col>med.sumy.punktow</th></tr></thead>\n",
       "<tbody>\n",
       "\t<tr><td>9.448193</td><td>8       </td><td>146.3997</td><td>86      </td></tr>\n",
       "</tbody>\n",
       "</table>\n"
      ],
      "text/latex": [
       "\\begin{tabular}{r|llll}\n",
       " śr.tyg.na.liscie & med.tyg.na.liscie & śr.suma.punktów & med.sumy.punktow\\\\\n",
       "\\hline\n",
       "\t 9.448193 & 8        & 146.3997 & 86      \\\\\n",
       "\\end{tabular}\n"
      ],
      "text/markdown": [
       "\n",
       "| śr.tyg.na.liscie | med.tyg.na.liscie | śr.suma.punktów | med.sumy.punktow |\n",
       "|---|---|---|---|\n",
       "| 9.448193 | 8        | 146.3997 | 86       |\n",
       "\n"
      ],
      "text/plain": [
       "  śr.tyg.na.liscie med.tyg.na.liscie śr.suma.punktów med.sumy.punktow\n",
       "1 9.448193         8                 146.3997        86              "
      ]
     },
     "metadata": {},
     "output_type": "display_data"
    }
   ],
   "source": [
    "records %>%\n",
    "    transmute(\n",
    "        Piosenka = paste(Tytuł, Artysta, sep=\" - \"),\n",
    "        Punkty=Punkty\n",
    "    ) %>%\n",
    "    group_by(Piosenka)%>%\n",
    "    summarize(\n",
    "        sumaPunktów = sum(Punkty),\n",
    "        liczbaWystapien = n()\n",
    "    )%>%\n",
    "    summarize(\n",
    "        śr.tyg.na.liscie = mean(liczbaWystapien),\n",
    "        med.tyg.na.liscie = median(liczbaWystapien),\n",
    "        śr.suma.punktów = mean(sumaPunktów),\n",
    "        med.sumy.punktow = median(sumaPunktów)\n",
    "    )"
   ]
  },
  {
   "cell_type": "markdown",
   "metadata": {},
   "source": [
    "Nawet tak prosty test jak wyżej przyniósł ciekawe wyniki! Średnia jest oddalona od mediany, co w statystyce oznacza, że zbiór jest skrzywiony w stronę mniejszych wartości. Narysujmy zatem oba histogramy - liczby tygodni w zestawieniu oraz sumy zdobytych punktów"
   ]
  },
  {
   "cell_type": "code",
   "execution_count": 237,
   "metadata": {},
   "outputs": [
    {
     "name": "stderr",
     "output_type": "stream",
     "text": [
      "`summarise()` ungrouping output (override with `.groups` argument)\n"
     ]
    },
    {
     "data": {
      "image/png": "[encoded data removed]",
      "text/plain": [
       "plot without title"
      ]
     },
     "metadata": {},
     "output_type": "display_data"
    }
   ],
   "source": [
    "records %>%\n",
    "    transmute(\n",
    "        Piosenka = paste(Tytuł, Artysta, sep=\" - \"),\n",
    "        Punkty=Punkty\n",
    "    ) %>%\n",
    "    group_by(Piosenka)%>%\n",
    "    summarize(\n",
    "        liczbaWystapien = n(),\n",
    "        )%>%\n",
    "    ggplot() +\n",
    "    theme_bw()+\n",
    "    geom_bar(aes(x=liczbaWystapien), stat=\"bin\", binwidth=1) + ylab(\"Liczba utworów\")\n"
   ]
  },
  {
   "cell_type": "code",
   "execution_count": 236,
   "metadata": {},
   "outputs": [
    {
     "name": "stderr",
     "output_type": "stream",
     "text": [
      "`summarise()` ungrouping output (override with `.groups` argument)\n"
     ]
    },
    {
     "data": {
      "image/png": "[encoded data removed]",
      "text/plain": [
       "plot without title"
      ]
     },
     "metadata": {},
     "output_type": "display_data"
    }
   ],
   "source": [
    "records %>%\n",
    "    transmute(\n",
    "        Piosenka = paste(Tytuł, Artysta, sep=\" - \"),\n",
    "        Punkty=Punkty\n",
    "    ) %>%\n",
    "    group_by(Piosenka)%>%\n",
    "    summarize(\n",
    "        sumaPunktów = sum(Punkty),\n",
    "        )%>%\n",
    "    ggplot() +\n",
    "    theme_bw()+\n",
    "    geom_bar(aes(x=sumaPunktów), stat=\"bin\", binwidth=10, fill='darkgreen') + ylab(\"Liczba utworów\")"
   ]
  },
  {
   "cell_type": "markdown",
   "metadata": {},
   "source": [
    "Teraz od razu widać prostą zależność - zdecydowana większość utworów znajduje się w zestawieniu zajmuje niskie pozycje, uzyskując w ten sposób niską sumaryczną punktację. Niewielka liczba utworów przełamuje barierę 500 punktów, jeszcze mniej 1000. Sprawdźmy zatem, jak wygląda ów \"top\" utworów.\n",
    "\n",
    "Poniżej zestawiono 20 utworów o największej sumarycznej liczbie punktów"
   ]
  },
  {
   "cell_type": "code",
   "execution_count": 235,
   "metadata": {},
   "outputs": [
    {
     "name": "stderr",
     "output_type": "stream",
     "text": [
      "`summarise()` ungrouping output (override with `.groups` argument)\n"
     ]
    },
    {
     "data": {
      "image/png": "[encoded data removed]",
      "text/plain": [
       "plot without title"
      ]
     },
     "metadata": {},
     "output_type": "display_data"
    }
   ],
   "source": [
    "records %>%\n",
    "    transmute(\n",
    "        Piosenka = paste(Tytuł, Artysta, sep=\" - \"),\n",
    "        Punkty=Punkty\n",
    "    )%>%\n",
    "    group_by(Piosenka) %>%\n",
    "    summarise(\n",
    "          SumaPunktów = sum(Punkty)\n",
    "          ) %>%\n",
    "    top_n(20, SumaPunktów) %>%\n",
    "    \n",
    "    ggplot() +\n",
    "    geom_bar(aes(x = reorder(Piosenka, -SumaPunktów), y = SumaPunktów), stat=\"identity\", fill='blue')+\n",
    "    theme_bw()+\n",
    "    theme(axis.text.x = element_text(angle=90, hjust=1), plot.title = element_text(hjust = 0.5)) +\n",
    "    xlab(\"Piosenka - Wykonawca\")+\n",
    "    ggtitle(\"Top 20 utworów o największej liczbie zebranych punktów\")"
   ]
  },
  {
   "cell_type": "markdown",
   "metadata": {},
   "source": [
    "Sprawdźmy również, ile dokładnie utworów przekroczyło bariery okrągłej liczby punktów"
   ]
  },
  {
   "cell_type": "code",
   "execution_count": 169,
   "metadata": {},
   "outputs": [
    {
     "name": "stderr",
     "output_type": "stream",
     "text": [
      "`summarise()` ungrouping output (override with `.groups` argument)\n"
     ]
    },
    {
     "data": {
      "text/html": [
       "<table>\n",
       "<thead><tr><th scope=col>Próg</th><th scope=col>Liczba.Piosenek</th><th scope=col>Procent</th></tr></thead>\n",
       "<tbody>\n",
       "\t<tr><td>   0  </td><td>6225  </td><td>100.00</td></tr>\n",
       "\t<tr><td> 100  </td><td>2844  </td><td> 45.69</td></tr>\n",
       "\t<tr><td> 200  </td><td>1677  </td><td> 26.94</td></tr>\n",
       "\t<tr><td> 300  </td><td> 972  </td><td> 15.61</td></tr>\n",
       "\t<tr><td> 400  </td><td> 548  </td><td>  8.80</td></tr>\n",
       "\t<tr><td> 500  </td><td> 291  </td><td>  4.67</td></tr>\n",
       "\t<tr><td> 600  </td><td> 159  </td><td>  2.55</td></tr>\n",
       "\t<tr><td> 700  </td><td>  79  </td><td>  1.27</td></tr>\n",
       "\t<tr><td> 800  </td><td>  38  </td><td>  0.61</td></tr>\n",
       "\t<tr><td> 900  </td><td>  19  </td><td>  0.31</td></tr>\n",
       "\t<tr><td>1000  </td><td>   7  </td><td>  0.11</td></tr>\n",
       "</tbody>\n",
       "</table>\n"
      ],
      "text/latex": [
       "\\begin{tabular}{r|lll}\n",
       " Próg & Liczba.Piosenek & Procent\\\\\n",
       "\\hline\n",
       "\t    0   & 6225   & 100.00\\\\\n",
       "\t  100   & 2844   &  45.69\\\\\n",
       "\t  200   & 1677   &  26.94\\\\\n",
       "\t  300   &  972   &  15.61\\\\\n",
       "\t  400   &  548   &   8.80\\\\\n",
       "\t  500   &  291   &   4.67\\\\\n",
       "\t  600   &  159   &   2.55\\\\\n",
       "\t  700   &   79   &   1.27\\\\\n",
       "\t  800   &   38   &   0.61\\\\\n",
       "\t  900   &   19   &   0.31\\\\\n",
       "\t 1000   &    7   &   0.11\\\\\n",
       "\\end{tabular}\n"
      ],
      "text/markdown": [
       "\n",
       "| Próg | Liczba.Piosenek | Procent |\n",
       "|---|---|---|\n",
       "|    0   | 6225   | 100.00 |\n",
       "|  100   | 2844   |  45.69 |\n",
       "|  200   | 1677   |  26.94 |\n",
       "|  300   |  972   |  15.61 |\n",
       "|  400   |  548   |   8.80 |\n",
       "|  500   |  291   |   4.67 |\n",
       "|  600   |  159   |   2.55 |\n",
       "|  700   |   79   |   1.27 |\n",
       "|  800   |   38   |   0.61 |\n",
       "|  900   |   19   |   0.31 |\n",
       "| 1000   |    7   |   0.11 |\n",
       "\n"
      ],
      "text/plain": [
       "   Próg Liczba.Piosenek Procent\n",
       "1     0 6225            100.00 \n",
       "2   100 2844             45.69 \n",
       "3   200 1677             26.94 \n",
       "4   300  972             15.61 \n",
       "5   400  548              8.80 \n",
       "6   500  291              4.67 \n",
       "7   600  159              2.55 \n",
       "8   700   79              1.27 \n",
       "9   800   38              0.61 \n",
       "10  900   19              0.31 \n",
       "11 1000    7              0.11 "
      ]
     },
     "metadata": {},
     "output_type": "display_data"
    }
   ],
   "source": [
    "tableWithPoints <-    \n",
    "    records %>% \n",
    "    transmute(\n",
    "        Piosenka = paste(Tytuł, Artysta, sep=\" - \"),\n",
    "        Punkty=Punkty\n",
    "    )%>%\n",
    "    group_by(Piosenka) %>%\n",
    "    summarise(SumaPunktów = sum(Punkty))\n",
    "\n",
    "numberOfSongs <-\n",
    "    records %>%\n",
    "    transmute(Piosenka = paste(Tytuł, Artysta, sep=\" - \"))%>%\n",
    "    distinct() %>%\n",
    "    summarise(liczbaPiosenek = n())\n",
    "\n",
    "\n",
    "progi = seq(0, 1000, by=100)\n",
    "liczbaPiosenekPowyzejProgu = c()\n",
    "procent = c()\n",
    "res <- data.frame()\n",
    "for (Próg in progi){\n",
    "    \n",
    "    tmp <-\n",
    "        tableWithPoints %>%\n",
    "        filter(SumaPunktów > Próg) %>%\n",
    "        summarize(Liczba.Piosenek = n())\n",
    "    pr <- round(tmp*100/numberOfSongs, 2)\n",
    "    newRow <- cbind(Próg, tmp, pr)\n",
    "    res <- rbind(res, newRow)\n",
    "}\n",
    "names(res)[3] <- \"Procent\"\n",
    "res"
   ]
  },
  {
   "cell_type": "markdown",
   "metadata": {},
   "source": [
    "Podobny jak wyżej histogram można również stworzyć dla liczby punktów zdobytych przez danego artystę"
   ]
  },
  {
   "cell_type": "code",
   "execution_count": 234,
   "metadata": {},
   "outputs": [
    {
     "name": "stderr",
     "output_type": "stream",
     "text": [
      "`summarise()` ungrouping output (override with `.groups` argument)\n"
     ]
    },
    {
     "data": {
      "image/png": "[encoded data removed]",
      "text/plain": [
       "plot without title"
      ]
     },
     "metadata": {},
     "output_type": "display_data"
    }
   ],
   "source": [
    "records %>%\n",
    "    select(Artysta, Punkty) %>%\n",
    "    group_by(Artysta) %>%\n",
    "    summarise(\n",
    "        SumaPunktów = sum(Punkty)\n",
    "        )%>%\n",
    "    top_n(20, SumaPunktów) %>%\n",
    "    \n",
    "    ggplot() +\n",
    "    geom_bar(aes(x = reorder(Artysta, -SumaPunktów), y = SumaPunktów), stat=\"identity\", fill='lightblue')+\n",
    "    theme_bw()+\n",
    "    theme(axis.text.x = element_text(angle=45, hjust=1), plot.title = element_text(hjust = 0.5)) +\n",
    "    xlab(\"Wykonawca\")+\n",
    "    ggtitle(\"Top 20 artystów o największej liczbie zebranych punktów\")\n",
    "    "
   ]
  },
  {
   "cell_type": "markdown",
   "metadata": {},
   "source": [
    "Jak suma punktów rozkładała się dla podanych wyżej twórców w ciągu kolejnych notowań?"
   ]
  },
  {
   "cell_type": "code",
   "execution_count": 171,
   "metadata": {},
   "outputs": [
    {
     "name": "stderr",
     "output_type": "stream",
     "text": [
      "`summarise()` ungrouping output (override with `.groups` argument)\n"
     ]
    },
    {
     "data": {
      "image/png": "[encoded data removed]",
      "text/plain": [
       "plot without title"
      ]
     },
     "metadata": {},
     "output_type": "display_data"
    }
   ],
   "source": [
    "topArtystow <-\n",
    "    records %>%\n",
    "    select(Artysta, Punkty) %>%\n",
    "    group_by(Artysta) %>%\n",
    "    summarise(\n",
    "        SumaPunktów = sum(Punkty)\n",
    "        )%>%\n",
    "    top_n(10, SumaPunktów)\n",
    "\n",
    "najlepsiArtysci <- topArtystow$Artysta\n",
    "\n",
    "records %>%\n",
    "filter(Artysta %in% najlepsiArtysci) %>%\n",
    "group_by(Artysta) %>%\n",
    "mutate(KumulowanePunkty=cumsum(Punkty)) %>%\n",
    "select(Nr.notowania, Artysta, KumulowanePunkty) %>%\n",
    "ggplot() +\n",
    "geom_line(aes(Nr.notowania, KumulowanePunkty, color=Artysta))"
   ]
  },
  {
   "cell_type": "markdown",
   "metadata": {},
   "source": [
    "Powyższy wykres pokazuje nam o wiele dokładniejsze dane niż sam histogram. Teraz widać wyraźnie, że artyści tacy jak Maanam czy Lady Pank \"zapewnili\" sobie najwyższe miejsca już w pierwszych notowaniach, natomiast nowsze zespoły, takie jak np. Lao Che wspinały się dynamicznie w ciągu ostatnich kilkunastu notowań.\n",
    "\n",
    "Również \"skoki\" wskazują na dużą liczbę punktów zdobywanych w którkim czasie, tzw. \"hitów\". Jakie one były dla poszczgólnych artystów?"
   ]
  },
  {
   "cell_type": "code",
   "execution_count": 265,
   "metadata": {
    "scrolled": false
   },
   "outputs": [
    {
     "name": "stderr",
     "output_type": "stream",
     "text": [
      "`summarise()` ungrouping output (override with `.groups` argument)\n",
      "`summarise()` regrouping output by 'Artysta' (override with `.groups` argument)\n"
     ]
    },
    {
     "data": {
      "image/png": "[encoded data removed]",
      "text/plain": [
       "plot without title"
      ]
     },
     "metadata": {},
     "output_type": "display_data"
    }
   ],
   "source": [
    "topArtystow <-\n",
    "    records %>%\n",
    "    select(Artysta, Punkty) %>%\n",
    "    group_by(Artysta) %>%\n",
    "    summarise(\n",
    "        SumaPunktów = sum(Punkty)\n",
    "        )%>%\n",
    "    top_n(10, SumaPunktów)\n",
    "\n",
    "najlepsiArtysci <- topArtystow$Artysta\n",
    "\n",
    "records %>%\n",
    "filter(Artysta %in% najlepsiArtysci) %>%\n",
    "group_by(Artysta, Tytuł) %>%\n",
    "summarise(\n",
    "    SumaPunktów = sum(Punkty)\n",
    "    ) %>%\n",
    "ungroup() %>%\n",
    "group_by(Artysta) %>%\n",
    "arrange(desc(SumaPunktów)) %>%\n",
    "top_n(5, SumaPunktów) %>%\n",
    "#arrange(Artysta)%>%\n",
    "ggplot() +\n",
    "geom_bar(aes(x = reorder(Tytuł, SumaPunktów), SumaPunktów, color=Artysta), stat=\"identity\", size=0.9)+\n",
    "theme(axis.ticks.length.y=unit(0.25, \"cm\"), axis.text.y = element_text(size=6, hjust=1))+\n",
    "facet_wrap(~Artysta, scales=\"free_y\", ncol=1)+ coord_flip() +\n",
    "xlab(\"Tytuły piosenek\")"
   ]
  },
  {
   "cell_type": "markdown",
   "metadata": {},
   "source": [
    "## Badanie hipotez\n",
    "### 1. *Mnie się podobają melodie, które już raz słyszałem*, czyli Czy znane nazwiska artystów zapewniają wyższe pozycje?\n",
    "Aby znaleźć (przybliżoną) odpowiedź na powyższe pytanie, można sprawdzić, czy istnieje korelacja między liczbą piosenek w zestawieniu danego artysty, a liczbą punktów na dany utwór "
   ]
  },
  {
   "cell_type": "code",
   "execution_count": 257,
   "metadata": {},
   "outputs": [
    {
     "name": "stderr",
     "output_type": "stream",
     "text": [
      "`summarise()` ungrouping output (override with `.groups` argument)\n",
      "`summarise()` regrouping output by 'Artysta' (override with `.groups` argument)\n",
      "`summarise()` ungrouping output (override with `.groups` argument)\n",
      "`geom_smooth()` using formula 'y ~ x'\n"
     ]
    },
    {
     "data": {
      "image/png": "[encoded data removed]",
      "text/plain": [
       "plot without title"
      ]
     },
     "metadata": {},
     "output_type": "display_data"
    }
   ],
   "source": [
    "#Artyści wg liczby piosenek w liście\n",
    "liczbaPiosenekNaArtyste <- \n",
    "    records %>%\n",
    "    select(Tytuł, Artysta) %>%\n",
    "    distinct() %>%\n",
    "    group_by(Artysta) %>%\n",
    "    summarise(Liczba.utworów.na.liście = n()) %>%\n",
    "    arrange(desc(Liczba.utworów.na.liście)) %>%\n",
    "    ungroup()\n",
    "\n",
    "#Średnia punktów na utwór\n",
    "śrPktNaArtyste <- records %>%\n",
    "    select(Artysta, Tytuł, Punkty) %>%\n",
    "    group_by(Artysta, Tytuł) %>%\n",
    "    summarise(\n",
    "        SumaPunktów = sum(Punkty),   #sumaryczna liczba punktów dla każdego utworu\n",
    "        ) %>%\n",
    "    ungroup() %>%\n",
    "    group_by(Artysta) %>%\n",
    "    summarise(\n",
    "        ŚredniaPunktówNaUtwór = mean(SumaPunktów)\n",
    "    ) %>% arrange(desc(ŚredniaPunktówNaUtwór))%>%\n",
    "    ungroup()\n",
    "\n",
    "joinedTable <- left_join(liczbaPiosenekNaArtyste, śrPktNaArtyste, by=\"Artysta\")\n",
    "korelacja <- cor(joinedTable$Liczba.utworów.na.liście, joinedTable$ŚredniaPunktówNaUtwór)\n",
    "\n",
    "left_join(liczbaPiosenekNaArtyste, śrPktNaArtyste, by=\"Artysta\") %>%\n",
    "    #top_n(20, Liczba.utworów.na.liście) %>%\n",
    "    ggplot(aes(x = Liczba.utworów.na.liście, y=ŚredniaPunktówNaUtwór)) +\n",
    "    geom_point() +\n",
    "    stat_smooth(method = \"lm_robust\") +  #poszukiwanie regresji liniowej\n",
    "    theme_bw() +\n",
    "    ggtitle(\"Korelacja:\" , korelacja)"
   ]
  },
  {
   "cell_type": "markdown",
   "metadata": {},
   "source": [
    "Jak widać na powyższym wykresie, korelacja jest mała. Zależność okazała się na tyle mała, że język R nie znalazł żadnej linii metodą najmniejszych kwadratów.\n",
    "Osobiście uważam, że niski współczynnik korelacji to dobry znak - znani artyści nie determinują wyglądu listy w stopniu znacznym, dzięki czemu utalentowani młodzi artyści również mogą znaleźć się na liście.\n",
    "\n",
    "Jednak przyglądając się szczytom powyższych tabel, zauważyłem pewien szczegół:"
   ]
  },
  {
   "cell_type": "code",
   "execution_count": 269,
   "metadata": {},
   "outputs": [
    {
     "data": {
      "text/html": [
       "<table>\n",
       "<thead><tr><th scope=col>Artysta</th><th scope=col>ŚredniaPunktówNaUtwór</th></tr></thead>\n",
       "<tbody>\n",
       "\t<tr><td>Gotye feat. Kimbra                                       </td><td>960.00                                                   </td></tr>\n",
       "\t<tr><td>Fisz Emade Tworzywo feat. Justyna Święs                  </td><td>752.00                                                   </td></tr>\n",
       "\t<tr><td>Zbigniew Zamachowski i Grupa MoCarta                     </td><td>746.00                                                   </td></tr>\n",
       "\t<tr><td>Fisz, Emade, Tworzywo feat. Kasia Nosowska               </td><td>682.00                                                   </td></tr>\n",
       "\t<tr><td>Michael Jackson feat. special guitar performance by Slash</td><td>674.00                                                   </td></tr>\n",
       "\t<tr><td>Organek                                                  </td><td>666.75                                                   </td></tr>\n",
       "\t<tr><td>Męskie Granie Orkiestra 2018                             </td><td>660.00                                                   </td></tr>\n",
       "\t<tr><td><span style=white-space:pre-wrap>Kazik &amp; Edyta Bartosiewicz                               </span></td><td>639.00                                                                                               </td></tr>\n",
       "\t<tr><td><span style=white-space:pre-wrap>Basia Stępniak-Wilk &amp; Grzegorz Turnau                    </span></td><td>623.00                                                                                               </td></tr>\n",
       "\t<tr><td><span style=white-space:pre-wrap>Mira Kubasińska &amp; After Blues                            </span></td><td>610.00                                                                                               </td></tr>\n",
       "\t<tr><td>Sabaton                                                  </td><td>608.00                                                   </td></tr>\n",
       "\t<tr><td>Yugopolis 2 / Maciej Maleńczuk                           </td><td>607.00                                                   </td></tr>\n",
       "\t<tr><td><span style=white-space:pre-wrap>Brodka &amp; A_GIM                                           </span></td><td>602.00                                                                                               </td></tr>\n",
       "\t<tr><td>Pati Yang                                                </td><td>595.00                                                   </td></tr>\n",
       "\t<tr><td>Sting feat. Cheb Mami                                    </td><td>591.00                                                   </td></tr>\n",
       "\t<tr><td><span style=white-space:pre-wrap>Lady Gaga &amp; Bradley Cooper                               </span></td><td>567.00                                                                                               </td></tr>\n",
       "\t<tr><td><span style=white-space:pre-wrap>Krzysztof Kiljański &amp; Kayah                              </span></td><td>565.00                                                                                               </td></tr>\n",
       "\t<tr><td><span style=white-space:pre-wrap>Ania Rusowicz &amp; Adam Nowak                               </span></td><td>561.00                                                                                               </td></tr>\n",
       "\t<tr><td><span style=white-space:pre-wrap>Marek Grechuta &amp; Myslovitz                               </span></td><td>560.00                                                                                               </td></tr>\n",
       "\t<tr><td>Santana feat. Rob Thomas                                 </td><td>558.00                                                   </td></tr>\n",
       "</tbody>\n",
       "</table>\n"
      ],
      "text/latex": [
       "\\begin{tabular}{r|ll}\n",
       " Artysta & ŚredniaPunktówNaUtwór\\\\\n",
       "\\hline\n",
       "\t Gotye feat. Kimbra                                        & 960.00                                                   \\\\\n",
       "\t Fisz Emade Tworzywo feat. Justyna Święs                   & 752.00                                                   \\\\\n",
       "\t Zbigniew Zamachowski i Grupa MoCarta                      & 746.00                                                   \\\\\n",
       "\t Fisz, Emade, Tworzywo feat. Kasia Nosowska                & 682.00                                                   \\\\\n",
       "\t Michael Jackson feat. special guitar performance by Slash & 674.00                                                   \\\\\n",
       "\t Organek                                                   & 666.75                                                   \\\\\n",
       "\t Męskie Granie Orkiestra 2018                              & 660.00                                                   \\\\\n",
       "\t Kazik \\& Edyta Bartosiewicz                                & 639.00                                                     \\\\\n",
       "\t Basia Stępniak-Wilk \\& Grzegorz Turnau                     & 623.00                                                     \\\\\n",
       "\t Mira Kubasińska \\& After Blues                             & 610.00                                                     \\\\\n",
       "\t Sabaton                                                   & 608.00                                                   \\\\\n",
       "\t Yugopolis 2 / Maciej Maleńczuk                            & 607.00                                                   \\\\\n",
       "\t Brodka \\& A\\_GIM                                            & 602.00                                                       \\\\\n",
       "\t Pati Yang                                                 & 595.00                                                   \\\\\n",
       "\t Sting feat. Cheb Mami                                     & 591.00                                                   \\\\\n",
       "\t Lady Gaga \\& Bradley Cooper                                & 567.00                                                     \\\\\n",
       "\t Krzysztof Kiljański \\& Kayah                               & 565.00                                                     \\\\\n",
       "\t Ania Rusowicz \\& Adam Nowak                                & 561.00                                                     \\\\\n",
       "\t Marek Grechuta \\& Myslovitz                                & 560.00                                                     \\\\\n",
       "\t Santana feat. Rob Thomas                                  & 558.00                                                   \\\\\n",
       "\\end{tabular}\n"
      ],
      "text/markdown": [
       "\n",
       "| Artysta | ŚredniaPunktówNaUtwór |\n",
       "|---|---|\n",
       "| Gotye feat. Kimbra                                        | 960.00                                                    |\n",
       "| Fisz Emade Tworzywo feat. Justyna Święs                   | 752.00                                                    |\n",
       "| Zbigniew Zamachowski i Grupa MoCarta                      | 746.00                                                    |\n",
       "| Fisz, Emade, Tworzywo feat. Kasia Nosowska                | 682.00                                                    |\n",
       "| Michael Jackson feat. special guitar performance by Slash | 674.00                                                    |\n",
       "| Organek                                                   | 666.75                                                    |\n",
       "| Męskie Granie Orkiestra 2018                              | 660.00                                                    |\n",
       "| Kazik & Edyta Bartosiewicz                                | 639.00                                                    |\n",
       "| Basia Stępniak-Wilk & Grzegorz Turnau                     | 623.00                                                    |\n",
       "| Mira Kubasińska & After Blues                             | 610.00                                                    |\n",
       "| Sabaton                                                   | 608.00                                                    |\n",
       "| Yugopolis 2 / Maciej Maleńczuk                            | 607.00                                                    |\n",
       "| Brodka & A_GIM                                            | 602.00                                                    |\n",
       "| Pati Yang                                                 | 595.00                                                    |\n",
       "| Sting feat. Cheb Mami                                     | 591.00                                                    |\n",
       "| Lady Gaga & Bradley Cooper                                | 567.00                                                    |\n",
       "| Krzysztof Kiljański & Kayah                               | 565.00                                                    |\n",
       "| Ania Rusowicz & Adam Nowak                                | 561.00                                                    |\n",
       "| Marek Grechuta & Myslovitz                                | 560.00                                                    |\n",
       "| Santana feat. Rob Thomas                                  | 558.00                                                    |\n",
       "\n"
      ],
      "text/plain": [
       "   Artysta                                                  \n",
       "1  Gotye feat. Kimbra                                       \n",
       "2  Fisz Emade Tworzywo feat. Justyna Święs                  \n",
       "3  Zbigniew Zamachowski i Grupa MoCarta                     \n",
       "4  Fisz, Emade, Tworzywo feat. Kasia Nosowska               \n",
       "5  Michael Jackson feat. special guitar performance by Slash\n",
       "6  Organek                                                  \n",
       "7  Męskie Granie Orkiestra 2018                             \n",
       "8  Kazik & Edyta Bartosiewicz                               \n",
       "9  Basia Stępniak-Wilk & Grzegorz Turnau                    \n",
       "10 Mira Kubasińska & After Blues                            \n",
       "11 Sabaton                                                  \n",
       "12 Yugopolis 2 / Maciej Maleńczuk                           \n",
       "13 Brodka & A_GIM                                           \n",
       "14 Pati Yang                                                \n",
       "15 Sting feat. Cheb Mami                                    \n",
       "16 Lady Gaga & Bradley Cooper                               \n",
       "17 Krzysztof Kiljański & Kayah                              \n",
       "18 Ania Rusowicz & Adam Nowak                               \n",
       "19 Marek Grechuta & Myslovitz                               \n",
       "20 Santana feat. Rob Thomas                                 \n",
       "   ŚredniaPunktówNaUtwór\n",
       "1  960.00               \n",
       "2  752.00               \n",
       "3  746.00               \n",
       "4  682.00               \n",
       "5  674.00               \n",
       "6  666.75               \n",
       "7  660.00               \n",
       "8  639.00               \n",
       "9  623.00               \n",
       "10 610.00               \n",
       "11 608.00               \n",
       "12 607.00               \n",
       "13 602.00               \n",
       "14 595.00               \n",
       "15 591.00               \n",
       "16 567.00               \n",
       "17 565.00               \n",
       "18 561.00               \n",
       "19 560.00               \n",
       "20 558.00               "
      ]
     },
     "metadata": {},
     "output_type": "display_data"
    }
   ],
   "source": [
    "śrPktNaArtyste %>% top_n(20, ŚredniaPunktówNaUtwór)"
   ]
  },
  {
   "cell_type": "markdown",
   "metadata": {},
   "source": [
    "Zaobserwowałem, że początek powyższej tabeli jest stosunkowo pełen muzycznych kolaboracji, np. \"Kazik & Edyta Bartosiewicz\", \"Gotye feat. Kimbra\". Czy jest to ogólna zasada? Czy kolaboracje między artystami to klucz do sukcesu? Sprawdźmy zatem, jak wygląda to dla całej tabeli.\n",
    "\n",
    "Dla uproszczenia przyjmiemy, że muzyczne kolaboracje mają w nazwie znak \"&\" bądź słowo \"feat.\" czyli \"featuring\". Ważne jest, że nie jest to metoda perfekcyjna. Często nie jest to jednorazowa współpraca jak w przypadku \"Nick Cave & The Bad Seeds\", którzy tworzą muzykę wspólnie już przez kilka dekad. Nie wliczamy jednak np. Męskiego Grania 2018, które jest oczywiście, kolaboracją"
   ]
  },
  {
   "cell_type": "code",
   "execution_count": 293,
   "metadata": {
    "scrolled": false
   },
   "outputs": [
    {
     "data": {
      "text/html": [
       "<table>\n",
       "<thead><tr><th scope=col>nazwa</th><th scope=col>liczba_utworów</th><th scope=col>średnia_liczba_punktów</th><th scope=col>mediana</th><th scope=col>odchylenie_standardowe</th></tr></thead>\n",
       "<tbody>\n",
       "\t<tr><td>Wszyscy artyści</td><td>1826           </td><td>111.6308       </td><td>73.30952       </td><td>122.6950       </td></tr>\n",
       "\t<tr><td>Kolaboracje    </td><td> 371           </td><td>137.1124       </td><td>68.00000       </td><td>164.3714       </td></tr>\n",
       "</tbody>\n",
       "</table>\n"
      ],
      "text/latex": [
       "\\begin{tabular}{r|lllll}\n",
       " nazwa & liczba\\_utworów & średnia\\_liczba\\_punktów & mediana & odchylenie\\_standardowe\\\\\n",
       "\\hline\n",
       "\t Wszyscy artyści & 1826            & 111.6308        & 73.30952        & 122.6950       \\\\\n",
       "\t Kolaboracje     &  371            & 137.1124        & 68.00000        & 164.3714       \\\\\n",
       "\\end{tabular}\n"
      ],
      "text/markdown": [
       "\n",
       "| nazwa | liczba_utworów | średnia_liczba_punktów | mediana | odchylenie_standardowe |\n",
       "|---|---|---|---|---|\n",
       "| Wszyscy artyści | 1826            | 111.6308        | 73.30952        | 122.6950        |\n",
       "| Kolaboracje     |  371            | 137.1124        | 68.00000        | 164.3714        |\n",
       "\n"
      ],
      "text/plain": [
       "  nazwa           liczba_utworów średnia_liczba_punktów mediana \n",
       "1 Wszyscy artyści 1826           111.6308               73.30952\n",
       "2 Kolaboracje      371           137.1124               68.00000\n",
       "  odchylenie_standardowe\n",
       "1 122.6950              \n",
       "2 164.3714              "
      ]
     },
     "metadata": {},
     "output_type": "display_data"
    },
    {
     "data": {
      "image/png": "[encoded data removed]",
      "text/plain": [
       "plot without title"
      ]
     },
     "metadata": {},
     "output_type": "display_data"
    }
   ],
   "source": [
    "kolaboracjeTabela <-\n",
    "    śrPktNaArtyste %>%\n",
    "    filter(str_detect(Artysta, '&|feat.'))\n",
    "\n",
    "calosciowo <-\n",
    "    śrPktNaArtyste %>%\n",
    "    summarise(\n",
    "        nazwa = \"Wszyscy artyści\",\n",
    "        liczba_utworów= n(),\n",
    "        średnia_liczba_punktów = mean(ŚredniaPunktówNaUtwór),\n",
    "        mediana = median(ŚredniaPunktówNaUtwór),\n",
    "        odchylenie_standardowe = sd(ŚredniaPunktówNaUtwór)\n",
    "        )\n",
    "\n",
    "kolaboracje <-     \n",
    "    kolaboracjeTabela %>%\n",
    "    summarise(\n",
    "        nazwa = \"Kolaboracje\",\n",
    "        liczba_utworów = n(),\n",
    "        średnia_liczba_punktów = mean(ŚredniaPunktówNaUtwór),\n",
    "        mediana = median(ŚredniaPunktówNaUtwór),\n",
    "        odchylenie_standardowe = sd(ŚredniaPunktówNaUtwór)\n",
    "        )\n",
    "\n",
    "\n",
    "rbind(calosciowo, kolaboracje)\n",
    "\n",
    "śrPktNaArtyste %>%\n",
    "filter(str_detect(Artysta, '&|feat.')) %>%\n",
    "ggplot(aes(ŚredniaPunktówNaUtwór)) +\n",
    "    theme_bw()+\n",
    "    geom_bar( stat=\"bin\", binwidth=10, fill='lightgreen') + ylab(\"Liczba utworów\")"
   ]
  },
  {
   "cell_type": "markdown",
   "metadata": {},
   "source": [
    "Powyższa tabelka pokazuje, że początkowa hipoteza na bazie fragmentu danych, nie była poprawna. Utwory powstałe jako muzyczne kolaboracje mają co prawda wyższą średnią sumarycznych punktów na utwór, jednak niższą medianę. Oznacza to, że w porównaniu z ogółem utworów, omawiane mogą w znaczący sposób \"wyprzedzić\" resztę, jednak jest to jeszcze bardziej niepewne niż w normalnym przypadku, na co wskazuje większe odchylenie standardowe.\n",
    "\n",
    "Sprawdźmy, czy istnieje korelacja między liczbą piosenek w zestawieniu a średnią zdobytą liczbą punktów na utwór dla utworów muzycznych kolaboracji"
   ]
  },
  {
   "cell_type": "code",
   "execution_count": 297,
   "metadata": {},
   "outputs": [
    {
     "name": "stderr",
     "output_type": "stream",
     "text": [
      "`geom_smooth()` using formula 'y ~ x'\n"
     ]
    },
    {
     "data": {
      "image/png": "[encoded data removed]",
      "text/plain": [
       "plot without title"
      ]
     },
     "metadata": {},
     "output_type": "display_data"
    }
   ],
   "source": [
    "kolaboracjeLiczbaPiosenek <- (liczbaPiosenekNaArtyste %>% filter(str_detect(Artysta, '&|feat.')))\n",
    "kolaboracjeŚrednia <- (śrPktNaArtyste %>% filter(str_detect(Artysta, '&|feat.')))                      \n",
    "\n",
    "joinedTable <- left_join(kolaboracjeLiczbaPiosenek, kolaboracjeŚrednia, by=\"Artysta\")\n",
    "korelacja <- cor(joinedTable$Liczba.utworów.na.liście, joinedTable$ŚredniaPunktówNaUtwór)\n",
    "\n",
    "    joinedTable %>%\n",
    "    ggplot(aes(x = Liczba.utworów.na.liście, y=ŚredniaPunktówNaUtwór)) +\n",
    "    geom_point() +\n",
    "    stat_smooth(method = \"lm_robust\") +  #poszukiwanie regresji liniowej\n",
    "    theme_bw() +\n",
    "    ggtitle(\"Korelacja:\" , korelacja)"
   ]
  },
  {
   "cell_type": "markdown",
   "metadata": {},
   "source": [
    "Jak widać - teraz korelacja jest jeszcze mniejsza. Oczywiście można również sprawdzić, czy kolaboracje częstych \"bywaczy\" na liście (jak np. \"Kazik & Edyta Bartosiewicz\") zapewniają więcej punktów niż typowy efekt współpracy między twórcami, jednak jest to już historia na inny czas"
   ]
  },
  {
   "cell_type": "code",
   "execution_count": null,
   "metadata": {},
   "outputs": [],
   "source": []
  }
 ],
 "metadata": {
  "kernelspec": {
   "display_name": "R",
   "language": "R",
   "name": "ir"
  },
  "language_info": {
   "codemirror_mode": "r",
   "file_extension": ".r",
   "mimetype": "text/x-r-source",
   "name": "R",
   "pygments_lexer": "r",
   "version": "3.6.1"
  }
 },
 "nbformat": 4,
 "nbformat_minor": 4
}
